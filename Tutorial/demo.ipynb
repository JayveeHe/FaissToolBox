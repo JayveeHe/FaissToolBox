{
 "cells": [
  {
   "cell_type": "code",
   "execution_count": 1,
   "metadata": {
    "collapsed": false
   },
   "outputs": [],
   "source": [
    "# this is a simple example to show how to build a faiss index from scratch\n",
    "\n",
    "from faisstoolbox.FaissManager import FaissIndexManager\n",
    "import numpy as np"
   ]
  },
  {
   "cell_type": "code",
   "execution_count": 2,
   "metadata": {
    "collapsed": false
   },
   "outputs": [
    {
     "name": "stderr",
     "output_type": "stream",
     "text": [
      "[2020-08-17 15:43:04,197][pid:22971-tid:4599072192] FaissManager.__init__: INFO: index inited, is_trained=True\n"
     ]
    }
   ],
   "source": [
    "# create index\n",
    "vec_dim = 128  # dimension of your vectors\n",
    "index_types_str = 'Flat'  # index type, string format, ref: https://github.com/facebookresearch/faiss/wiki/Faiss-indexes\n",
    "# here we use Flat, which means we won't do any encoding and compression on raw vector\n",
    "\n",
    "fim = FaissIndexManager(dim=vec_dim, index_types=index_types_str)"
   ]
  },
  {
   "cell_type": "code",
   "execution_count": 3,
   "metadata": {
    "collapsed": false
   },
   "outputs": [
    {
     "name": "stdout",
     "output_type": "stream",
     "text": [
      "(1000, 128)\n",
      "0 done\n",
      "100 done\n",
      "200 done\n",
      "300 done\n",
      "400 done\n",
      "500 done\n",
      "600 done\n",
      "700 done\n",
      "800 done\n",
      "900 done\n"
     ]
    }
   ],
   "source": [
    "# add some rand vec by Numpy\n",
    "rand_vecs = np.random.rand(1000, vec_dim)\n",
    "print(rand_vecs.shape)\n",
    "for i in range(len(rand_vecs)):\n",
    "    vec_arr = rand_vecs[i]\n",
    "    fim.add_vec(np.array(vec_arr, dtype=np.float32), str(i))\n",
    "    if i % 100 == 0:\n",
    "        print(i, 'done')"
   ]
  },
  {
   "cell_type": "code",
   "execution_count": 4,
   "metadata": {
    "collapsed": false
   },
   "outputs": [
    {
     "name": "stdout",
     "output_type": "stream",
     "text": [
      "successfully save index to ./demo_index.idx, dict path: ./demo_vec_key.dic\n"
     ]
    }
   ],
   "source": [
    "# save index to disk\n",
    "index_path = './demo_index.idx'\n",
    "vec_key_path = './demo_vec_key.dic'\n",
    "fim.save(index_file_path=index_path, dict_path=vec_key_path)"
   ]
  },
  {
   "cell_type": "code",
   "execution_count": 5,
   "metadata": {
    "collapsed": false
   },
   "outputs": [
    {
     "name": "stderr",
     "output_type": "stream",
     "text": [
      "[2020-08-17 15:43:39,947][pid:22971-tid:4599072192] FaissManager.__init__: INFO: loading index from ./demo_index.idx\n",
      "[2020-08-17 15:43:39,959][pid:22971-tid:4599072192] FaissManager.__init__: INFO: index inited, is_trained=True\n"
     ]
    },
    {
     "name": "stdout",
     "output_type": "stream",
     "text": [
      "[[('901', 1.1244163838718269), ('258', 1.1946260371141235), ('672', 1.206722266930447), ('368', 1.2134917251508728), ('265', 1.2135074880722159), ('386', 1.267817917063354), ('5', 1.3000176035634947), ('965', 1.3137157507980204), ('983', 1.3505976992866306), ('533', 1.3533024311429687)]]\n"
     ]
    }
   ],
   "source": [
    "# load index and perform search\n",
    "new_fim = FaissIndexManager(index_file_path=index_path, id_dict_path=vec_key_path)\n",
    "test_vec = np.array(np.random.rand(1, vec_dim), dtype=np.float32)\n",
    "test_vec = test_vec[0]\n",
    "dist_list, key_list = new_fim.search_vec(np.array([test_vec]), topk=10)\n",
    "result_list = []\n",
    "for idx in range(len(dist_list)):\n",
    "    result_list.append(list(zip(key_list[idx], dist_list[idx])))\n",
    "\n",
    "print(result_list)"
   ]
  },
  {
   "cell_type": "code",
   "execution_count": null,
   "metadata": {
    "collapsed": true
   },
   "outputs": [],
   "source": []
  }
 ],
 "metadata": {
  "kernelspec": {
   "display_name": "py38",
   "language": "python",
   "name": "py38"
  },
  "language_info": {
   "codemirror_mode": {
    "name": "ipython",
    "version": 3
   },
   "file_extension": ".py",
   "mimetype": "text/x-python",
   "name": "python",
   "nbconvert_exporter": "python",
   "pygments_lexer": "ipython3",
   "version": "3.8.1"
  }
 },
 "nbformat": 4,
 "nbformat_minor": 0
}
